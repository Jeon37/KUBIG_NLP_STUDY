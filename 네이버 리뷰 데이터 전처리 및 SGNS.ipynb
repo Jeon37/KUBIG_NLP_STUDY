{
 "cells": [
  {
   "cell_type": "code",
   "execution_count": 1,
   "metadata": {
    "id": "kBn37qzN9AQc"
   },
   "outputs": [],
   "source": [
    "import pandas as pd\n",
    "import numpy as np\n",
    "import matplotlib.pyplot as plt\n",
    "import urllib.request\n",
    "from collections import Counter\n",
    "from konlpy.tag import Okt\n",
    "from tensorflow.keras.preprocessing.text import Tokenizer"
   ]
  },
  {
   "cell_type": "markdown",
   "metadata": {
    "id": "r8YYpOr09AQg"
   },
   "source": [
    "### 전처리"
   ]
  },
  {
   "cell_type": "markdown",
   "metadata": {
    "id": "0Vy3ArJ39AQi"
   },
   "source": [
    "#### 1. 하나의 샘플에 단어가 2개 이상 존재하지 않는 샘플 제거\n",
    "⇒ 샘플당 최소한 단어 2개 이상 있어야 중심 단어, 주변 단어의 관계가 성립하기 때문"
   ]
  },
  {
   "cell_type": "code",
   "execution_count": 10,
   "metadata": {
    "colab": {
     "base_uri": "https://localhost:8080/"
    },
    "id": "fAbLWX-f9AQk",
    "outputId": "2367928f-32ce-4626-a515-6550c7b0e98b"
   },
   "outputs": [
    {
     "name": "stdout",
     "output_type": "stream",
     "text": [
      "총 샘플 수 : 200000\n"
     ]
    }
   ],
   "source": [
    "data = pd.read_csv('./naver_shopping.txt', sep = \"\\t\",header=None,names=['ID','Review'])\n",
    "print('총 샘플 수 :',len(data))"
   ]
  },
  {
   "cell_type": "code",
   "execution_count": 11,
   "metadata": {
    "colab": {
     "base_uri": "https://localhost:8080/",
     "height": 414
    },
    "id": "fGDe5iiz9AQm",
    "outputId": "8e09893e-3181-4328-dd05-dbb93eaf6f67"
   },
   "outputs": [
    {
     "data": {
      "text/html": [
       "<div>\n",
       "<style scoped>\n",
       "    .dataframe tbody tr th:only-of-type {\n",
       "        vertical-align: middle;\n",
       "    }\n",
       "\n",
       "    .dataframe tbody tr th {\n",
       "        vertical-align: top;\n",
       "    }\n",
       "\n",
       "    .dataframe thead th {\n",
       "        text-align: right;\n",
       "    }\n",
       "</style>\n",
       "<table border=\"1\" class=\"dataframe\">\n",
       "  <thead>\n",
       "    <tr style=\"text-align: right;\">\n",
       "      <th></th>\n",
       "      <th>Review</th>\n",
       "    </tr>\n",
       "  </thead>\n",
       "  <tbody>\n",
       "    <tr>\n",
       "      <th>0</th>\n",
       "      <td>배공빠르고 굿</td>\n",
       "    </tr>\n",
       "    <tr>\n",
       "      <th>1</th>\n",
       "      <td>택배가 엉망이네용 저희집 밑에층에 말도없이 놔두고가고</td>\n",
       "    </tr>\n",
       "    <tr>\n",
       "      <th>2</th>\n",
       "      <td>아주좋아요 바지 정말 좋아서2개 더 구매했어요 이가격에 대박입니다. 바느질이 조금 ...</td>\n",
       "    </tr>\n",
       "    <tr>\n",
       "      <th>3</th>\n",
       "      <td>선물용으로 빨리 받아서 전달했어야 하는 상품이었는데 머그컵만 와서 당황했습니다. 전...</td>\n",
       "    </tr>\n",
       "    <tr>\n",
       "      <th>4</th>\n",
       "      <td>민트색상 예뻐요. 옆 손잡이는 거는 용도로도 사용되네요 ㅎㅎ</td>\n",
       "    </tr>\n",
       "    <tr>\n",
       "      <th>...</th>\n",
       "      <td>...</td>\n",
       "    </tr>\n",
       "    <tr>\n",
       "      <th>49995</th>\n",
       "      <td>겨울에 건조할때 이것만한게 없어요 아이들이 쓰는데 순하고 촉촉하고 너무좋아요~^^</td>\n",
       "    </tr>\n",
       "    <tr>\n",
       "      <th>49996</th>\n",
       "      <td>향이 넘 좋아요 다이어트 차로 유명하다구 해서 구매하구 꾸준히먹구 또 재구매했어요 ...</td>\n",
       "    </tr>\n",
       "    <tr>\n",
       "      <th>49997</th>\n",
       "      <td>재구매 선생님 오늘도 감사해요 ...쌤덕분에 잠시라도 친해져서 밥도먹고 빠르게 만났...</td>\n",
       "    </tr>\n",
       "    <tr>\n",
       "      <th>49998</th>\n",
       "      <td>재구매 연마제가 끊임없이 나와서 20번 이상 세척하고도 안되서 식용유로 일일이 하나...</td>\n",
       "    </tr>\n",
       "    <tr>\n",
       "      <th>49999</th>\n",
       "      <td>데싱디바를 생각했는데 전혀 다르네요 같이 들어있는 풀은 네일용이라기보다 강력접착제입...</td>\n",
       "    </tr>\n",
       "  </tbody>\n",
       "</table>\n",
       "<p>50000 rows × 1 columns</p>\n",
       "</div>"
      ],
      "text/plain": [
       "                                                  Review\n",
       "0                                                배공빠르고 굿\n",
       "1                          택배가 엉망이네용 저희집 밑에층에 말도없이 놔두고가고\n",
       "2      아주좋아요 바지 정말 좋아서2개 더 구매했어요 이가격에 대박입니다. 바느질이 조금 ...\n",
       "3      선물용으로 빨리 받아서 전달했어야 하는 상품이었는데 머그컵만 와서 당황했습니다. 전...\n",
       "4                      민트색상 예뻐요. 옆 손잡이는 거는 용도로도 사용되네요 ㅎㅎ\n",
       "...                                                  ...\n",
       "49995      겨울에 건조할때 이것만한게 없어요 아이들이 쓰는데 순하고 촉촉하고 너무좋아요~^^\n",
       "49996  향이 넘 좋아요 다이어트 차로 유명하다구 해서 구매하구 꾸준히먹구 또 재구매했어요 ...\n",
       "49997  재구매 선생님 오늘도 감사해요 ...쌤덕분에 잠시라도 친해져서 밥도먹고 빠르게 만났...\n",
       "49998  재구매 연마제가 끊임없이 나와서 20번 이상 세척하고도 안되서 식용유로 일일이 하나...\n",
       "49999  데싱디바를 생각했는데 전혀 다르네요 같이 들어있는 풀은 네일용이라기보다 강력접착제입...\n",
       "\n",
       "[50000 rows x 1 columns]"
      ]
     },
     "execution_count": 11,
     "metadata": {},
     "output_type": "execute_result"
    }
   ],
   "source": [
    "data = data.drop(columns=['ID'], axis=1)\n",
    "# 50000개 데이터만 추출\n",
    "data = data.loc[0:49999]\n",
    "data"
   ]
  },
  {
   "cell_type": "code",
   "execution_count": 12,
   "metadata": {
    "colab": {
     "base_uri": "https://localhost:8080/"
    },
    "id": "R2TLKuS09AQo",
    "outputId": "ae1b0250-288b-41a3-e426-e2eed9be0166"
   },
   "outputs": [
    {
     "name": "stdout",
     "output_type": "stream",
     "text": [
      "총 샘플 수 : 49997\n"
     ]
    }
   ],
   "source": [
    "# reviews 열에서 중복인 내용이 있다면 중복 제거\n",
    "data.drop_duplicates(subset=['Review'], inplace=True)\n",
    "print('총 샘플 수 :',len(data))"
   ]
  },
  {
   "cell_type": "markdown",
   "metadata": {
    "id": "q_8sSo_R9AQp"
   },
   "source": [
    "#### 결측치 확인"
   ]
  },
  {
   "cell_type": "code",
   "execution_count": 13,
   "metadata": {
    "colab": {
     "base_uri": "https://localhost:8080/"
    },
    "id": "VjzkspUA9AQp",
    "outputId": "81602c76-c203-427e-9acf-7fe1af82a055"
   },
   "outputs": [
    {
     "data": {
      "text/plain": [
       "False"
      ]
     },
     "execution_count": 13,
     "metadata": {},
     "output_type": "execute_result"
    }
   ],
   "source": [
    "data.isnull().values.any()"
   ]
  },
  {
   "cell_type": "markdown",
   "metadata": {
    "id": "Km8wEXyS9AQq"
   },
   "source": [
    "#### 데이터 정제"
   ]
  },
  {
   "cell_type": "code",
   "execution_count": 14,
   "metadata": {
    "colab": {
     "base_uri": "https://localhost:8080/"
    },
    "id": "80zbI-M39AQr",
    "outputId": "67ccaa5b-db17-46fa-b240-ec0b840be9ea"
   },
   "outputs": [
    {
     "data": {
      "text/plain": [
       "Review    0\n",
       "dtype: int64"
      ]
     },
     "execution_count": 14,
     "metadata": {},
     "output_type": "execute_result"
    }
   ],
   "source": [
    "# 한글과 공백을 제외하고 모두 제거\n",
    "data['Review'] = data['Review'].str.replace(\"[^ㄱ-ㅎㅏ-ㅣ가-힣 ]\",\"\")\n",
    "data['Review'].replace('', np.nan, inplace=True) #빈칸은 결측치로 변환\n",
    "data.isnull().sum() # 결측치 없음!"
   ]
  },
  {
   "cell_type": "markdown",
   "metadata": {
    "id": "1u9t2BIn9AQu"
   },
   "source": [
    "#### 토큰화 & 불용어 제거"
   ]
  },
  {
   "cell_type": "code",
   "execution_count": 15,
   "metadata": {},
   "outputs": [],
   "source": [
    "# 형태소 분석기 OKT를 사용한 토큰화 작업\n",
    "# Okt (구 Twitter): 오픈 소스 한국어 분석기이고, 과거 트위터 형태소 분석기\n",
    "okt = Okt()\n",
    "stopwords = ['도', '는', '다', '의', '가', '이', '은', '한', '에', '하', '고', '을', '를', '인', '듯', '과', '와', '네', '들', '듯', '지', '임', '게']\n",
    "tokenized_doc = []\n",
    "for sentence in data['Review']:\n",
    "    temp_X = okt.morphs(sentence, stem=True) # 토큰화\n",
    "    temp_X = [word for word in temp_X if not word in stopwords] # 불용어 제거\n",
    "    tokenized_doc.append(temp_X)"
   ]
  },
  {
   "cell_type": "code",
   "execution_count": 16,
   "metadata": {
    "colab": {
     "base_uri": "https://localhost:8080/"
    },
    "id": "JzQOgdmd9AQy",
    "outputId": "757e4616-a856-4459-98c2-126be1f98f35"
   },
   "outputs": [
    {
     "name": "stdout",
     "output_type": "stream",
     "text": [
      "총 샘플 수 : 49890\n"
     ]
    },
    {
     "name": "stderr",
     "output_type": "stream",
     "text": [
      "C:\\Users\\Jeon Jiwoo\\anaconda3\\lib\\site-packages\\numpy\\core\\_asarray.py:83: VisibleDeprecationWarning: Creating an ndarray from ragged nested sequences (which is a list-or-tuple of lists-or-tuples-or ndarrays with different lengths or shapes) is deprecated. If you meant to do this, you must specify 'dtype=object' when creating the ndarray\n",
      "  return array(a, dtype, copy=False, order=order)\n"
     ]
    }
   ],
   "source": [
    "# 단어가 1개 이하인 경우 제거\n",
    "drop_train = [index for index, sentence in enumerate(tokenized_doc) if len(sentence) <= 1] # 단어가 1개 이하인 샘플의 인덱스 저장\n",
    "tokenized_doc = np.delete(tokenized_doc, drop_train, axis=0) # 해당 샘플들 제거\n",
    "print('총 샘플 수 :',len(tokenized_doc))"
   ]
  },
  {
   "cell_type": "markdown",
   "metadata": {
    "id": "O7yZ-WUU9AQ1"
   },
   "source": [
    "#### 5. 정수 인코딩"
   ]
  },
  {
   "cell_type": "code",
   "execution_count": 17,
   "metadata": {
    "id": "YDf87Lzy9AQ3"
   },
   "outputs": [],
   "source": [
    "tokenizer = Tokenizer()\n",
    "tokenizer.fit_on_texts(tokenized_doc)\n",
    "\n",
    "word2idx = tokenizer.word_index\n",
    "idx2word = {v:k for k, v in word2idx.items()}\n",
    "encoded = tokenizer.texts_to_sequences(tokenized_doc)"
   ]
  },
  {
   "cell_type": "code",
   "execution_count": 18,
   "metadata": {
    "colab": {
     "base_uri": "https://localhost:8080/"
    },
    "id": "Zr56I_Uh9AQ4",
    "outputId": "20bbceb5-8bf5-45b7-c043-00d66575192e"
   },
   "outputs": [
    {
     "name": "stdout",
     "output_type": "stream",
     "text": [
      "[[7312, 27, 272], [193, 545, 145, 115, 563, 198, 546, 1690, 326, 159, 1364]]\n"
     ]
    }
   ],
   "source": [
    "print(encoded[:2])"
   ]
  },
  {
   "cell_type": "code",
   "execution_count": 19,
   "metadata": {
    "colab": {
     "base_uri": "https://localhost:8080/"
    },
    "id": "BIN9vXpm9ARD",
    "outputId": "b513a0b7-7fef-441d-8a7e-4ebc251c4080"
   },
   "outputs": [
    {
     "name": "stdout",
     "output_type": "stream",
     "text": [
      "단어 집합의 크기 : 21600\n"
     ]
    }
   ],
   "source": [
    "# 단어 집합의 크기\n",
    "vocab_size = len(word2idx) + 1 \n",
    "print('단어 집합의 크기 :', vocab_size)"
   ]
  },
  {
   "cell_type": "markdown",
   "metadata": {
    "id": "BrLlxgWX9ARG"
   },
   "source": [
    "### 네거티브 샘플링"
   ]
  },
  {
   "cell_type": "code",
   "execution_count": 20,
   "metadata": {
    "id": "7ndxHrq89ARJ"
   },
   "outputs": [],
   "source": [
    "from tensorflow.keras.preprocessing.sequence import skipgrams\n",
    "# 네거티브 샘플링\n",
    "skip_grams = [skipgrams(sample, vocabulary_size=vocab_size, window_size=10) for sample in encoded]"
   ]
  },
  {
   "cell_type": "code",
   "execution_count": 21,
   "metadata": {
    "colab": {
     "base_uri": "https://localhost:8080/"
    },
    "id": "axBJ3Lpi9ARL",
    "outputId": "2cd9cfea-1095-4b66-b5a2-78d43f4f218c"
   },
   "outputs": [
    {
     "name": "stdout",
     "output_type": "stream",
     "text": [
      "(진짜 (82), 숙성하다 (6342)) -> 0\n",
      "(불편하다 (111), 특특 (21390)) -> 0\n",
      "(비추다 (284), 지못미 (12494)) -> 0\n",
      "(실용 (1151), 보다도 (1757)) -> 0\n",
      "(보기 (608), 액션 (3793)) -> 0\n"
     ]
    }
   ],
   "source": [
    "# 첫 번째 리뷰그룹 샘플 skip_grams[0] 내 skipgrams로 형성된 데이터셋 확인\n",
    "pairs, labels = skip_grams[5][0], skip_grams[5][1]\n",
    "for i in range(5):\n",
    "    print(\"({:s} ({:d}), {:s} ({:d})) -> {:d}\".format(\n",
    "          idx2word[pairs[i][0]], pairs[i][0], \n",
    "          idx2word[pairs[i][1]], pairs[i][1], \n",
    "          labels[i]))"
   ]
  },
  {
   "cell_type": "markdown",
   "metadata": {
    "id": "jZ2Zv8F-9ARN"
   },
   "source": [
    "윈도우 크기 = 10 내에서  \n",
    "중심 단어, 주변 단어의 관계를 갖는 경우 = 1  \n",
    "중심 단어, 주변 단어의 관계를 갖지 않는 경우 = 0"
   ]
  },
  {
   "cell_type": "code",
   "execution_count": 22,
   "metadata": {
    "colab": {
     "base_uri": "https://localhost:8080/"
    },
    "id": "QhTgg-lr9ARP",
    "outputId": "3ab0201d-a9eb-4b63-eca3-0439789db6d0"
   },
   "outputs": [
    {
     "name": "stdout",
     "output_type": "stream",
     "text": [
      "전체 샘플 수 : 49890\n"
     ]
    }
   ],
   "source": [
    "print('전체 샘플 수 :',len(skip_grams))"
   ]
  },
  {
   "cell_type": "code",
   "execution_count": 23,
   "metadata": {
    "colab": {
     "base_uri": "https://localhost:8080/"
    },
    "id": "qfHezZSz9ARR",
    "outputId": "a9a2be68-9a0b-48de-f8a2-fee4ab4803a9"
   },
   "outputs": [
    {
     "name": "stdout",
     "output_type": "stream",
     "text": [
      "660\n",
      "660\n"
     ]
    }
   ],
   "source": [
    "# 첫번째 뉴스그룹 샘플에 대해서 생긴 pairs와 labels의 개수\n",
    "print(len(pairs))\n",
    "print(len(labels))"
   ]
  },
  {
   "cell_type": "markdown",
   "metadata": {
    "id": "fR9wBZag9ARS"
   },
   "source": [
    "### Skip-Gram with Negative Sampling(SGNS) 구현"
   ]
  },
  {
   "cell_type": "code",
   "execution_count": 24,
   "metadata": {
    "id": "7sr7I_Zv9ART"
   },
   "outputs": [],
   "source": [
    "from tensorflow.keras.models import Sequential, Model\n",
    "from tensorflow.keras.layers import Embedding, Reshape, Activation, Input\n",
    "from tensorflow.keras.layers import Dot\n",
    "from tensorflow.keras.utils import plot_model\n",
    "from IPython.display import SVG"
   ]
  },
  {
   "cell_type": "code",
   "execution_count": 25,
   "metadata": {
    "id": "rDXy5g779ARU"
   },
   "outputs": [],
   "source": [
    "embed_size = 100 # 임의로 설정"
   ]
  },
  {
   "cell_type": "code",
   "execution_count": 26,
   "metadata": {
    "id": "iWfPeQZO9ARY"
   },
   "outputs": [],
   "source": [
    "# 임베딩 테이블 생성\n",
    "# 중심 단어를 위한 임베딩 테이블\n",
    "w_inputs = Input(shape=(1, ), dtype='int32')\n",
    "word_embedding = Embedding(vocab_size, embed_size)(w_inputs)\n",
    "\n",
    "# 주변 단어를 위한 임베딩 테이블\n",
    "c_inputs = Input(shape=(1, ), dtype='int32')\n",
    "context_embedding  = Embedding(vocab_size, embed_size)(c_inputs)"
   ]
  },
  {
   "cell_type": "markdown",
   "metadata": {
    "id": "q04X6Mzv9ARa"
   },
   "source": [
    "1. 단어는 임베딩 테이블을 거치며 내적을 수행  \n",
    "2. 내적의 결과에 대해 1 또는 0을 예측하기 위해 시그모이드 함수를 활성화 함수로 거쳐 최종 예측값 계산"
   ]
  },
  {
   "cell_type": "code",
   "execution_count": 27,
   "metadata": {
    "id": "vcdjgRUG9ARa"
   },
   "outputs": [],
   "source": [
    "dot_product = Dot(axes=2)([word_embedding, context_embedding])\n",
    "dot_product = Reshape((1,), input_shape=(1, 1))(dot_product)\n",
    "output = Activation('sigmoid')(dot_product)"
   ]
  },
  {
   "cell_type": "code",
   "execution_count": 28,
   "metadata": {
    "colab": {
     "base_uri": "https://localhost:8080/",
     "height": 936
    },
    "id": "Ub1jjAmW9ARe",
    "outputId": "77803615-ebbf-4ae3-d000-bc273641d303"
   },
   "outputs": [
    {
     "name": "stdout",
     "output_type": "stream",
     "text": [
      "Model: \"model\"\n",
      "__________________________________________________________________________________________________\n",
      "Layer (type)                    Output Shape         Param #     Connected to                     \n",
      "==================================================================================================\n",
      "input_1 (InputLayer)            [(None, 1)]          0                                            \n",
      "__________________________________________________________________________________________________\n",
      "input_2 (InputLayer)            [(None, 1)]          0                                            \n",
      "__________________________________________________________________________________________________\n",
      "embedding (Embedding)           (None, 1, 100)       2160000     input_1[0][0]                    \n",
      "__________________________________________________________________________________________________\n",
      "embedding_1 (Embedding)         (None, 1, 100)       2160000     input_2[0][0]                    \n",
      "__________________________________________________________________________________________________\n",
      "dot (Dot)                       (None, 1, 1)         0           embedding[0][0]                  \n",
      "                                                                 embedding_1[0][0]                \n",
      "__________________________________________________________________________________________________\n",
      "reshape (Reshape)               (None, 1)            0           dot[0][0]                        \n",
      "__________________________________________________________________________________________________\n",
      "activation (Activation)         (None, 1)            0           reshape[0][0]                    \n",
      "==================================================================================================\n",
      "Total params: 4,320,000\n",
      "Trainable params: 4,320,000\n",
      "Non-trainable params: 0\n",
      "__________________________________________________________________________________________________\n"
     ]
    },
    {
     "data": {
      "image/png": "[encoded data removed]",
      "text/plain": [
       "<IPython.core.display.Image object>"
      ]
     },
     "execution_count": 28,
     "metadata": {},
     "output_type": "execute_result"
    }
   ],
   "source": [
    "model = Model(inputs=[w_inputs, c_inputs], outputs=output)\n",
    "model.summary()\n",
    "model.compile(loss='binary_crossentropy', optimizer='adam')\n",
    "plot_model(model, to_file='model3.png', show_shapes=True, show_layer_names=True, rankdir='TB')"
   ]
  },
  {
   "cell_type": "code",
   "execution_count": 29,
   "metadata": {
    "id": "lP2mOr2S9ARg"
   },
   "outputs": [
    {
     "name": "stdout",
     "output_type": "stream",
     "text": [
      "Epoch : 1 Loss : 15784.405786621151\n",
      "Epoch : 2 Loss : 14268.576180072734\n"
     ]
    }
   ],
   "source": [
    "for epoch in range(1, 3):\n",
    "    loss = 0\n",
    "    for _, elem in enumerate(skip_grams):\n",
    "        first_elem = np.array(list(zip(*elem[0]))[0], dtype='int32')\n",
    "        second_elem = np.array(list(zip(*elem[0]))[1], dtype='int32')\n",
    "        labels = np.array(elem[1], dtype='int32')\n",
    "        X = [first_elem, second_elem]\n",
    "        Y = labels\n",
    "        loss += model.train_on_batch(X,Y)  \n",
    "    print('Epoch :',epoch, 'Loss :',loss)"
   ]
  },
  {
   "cell_type": "markdown",
   "metadata": {
    "id": "N9TccXHq9ARh"
   },
   "source": [
    "### 결과 확인"
   ]
  },
  {
   "cell_type": "code",
   "execution_count": 30,
   "metadata": {
    "id": "Z_qNVftu9ARh"
   },
   "outputs": [],
   "source": [
    "import gensim\n",
    "f = open('vectors_okt.txt' ,'w')\n",
    "f.write('{} {}\\n'.format(vocab_size-1, embed_size))\n",
    "vectors = model.get_weights()[0]\n",
    "for word, i in tokenizer.word_index.items():\n",
    "    f.write('{} {}\\n'.format(word, ' '.join(map(str, list(vectors[i, :])))))\n",
    "f.close()"
   ]
  },
  {
   "cell_type": "code",
   "execution_count": 32,
   "metadata": {
    "id": "WqQOyEcs9ARi"
   },
   "outputs": [],
   "source": [
    "w2v = gensim.models.KeyedVectors.load_word2vec_format('./vectors.txt', encoding='cp949', binary=False)"
   ]
  },
  {
   "cell_type": "code",
   "execution_count": 49,
   "metadata": {
    "id": "TJAQ6Lvh9ARi",
    "outputId": "e88c270d-832c-469a-a027-67c19461ca18"
   },
   "outputs": [
    {
     "data": {
      "text/plain": [
       "[('비리다', 0.5968079566955566),\n",
       " ('찌다', 0.5607590079307556),\n",
       " ('속이다', 0.5586252808570862),\n",
       " ('고구마', 0.5548953413963318),\n",
       " ('식', 0.5418834686279297),\n",
       " ('기름', 0.5301826000213623),\n",
       " ('굽다', 0.5283915996551514),\n",
       " ('씨', 0.528059720993042),\n",
       " ('냉동', 0.5268831253051758),\n",
       " ('호박', 0.5259698629379272)]"
      ]
     },
     "execution_count": 49,
     "metadata": {},
     "output_type": "execute_result"
    }
   ],
   "source": [
    "w2v.most_similar(positive=['밤'])"
   ]
  },
  {
   "cell_type": "code",
   "execution_count": 50,
   "metadata": {
    "id": "Op4aQgmx9ARj",
    "outputId": "ffc1e7c3-6dee-445a-e4e9-07321c972d9b"
   },
   "outputs": [
    {
     "data": {
      "text/plain": [
       "[('연결', 0.7366383075714111),\n",
       " ('아이폰', 0.7288424968719482),\n",
       " ('중간', 0.6770490407943726),\n",
       " ('보조', 0.6727166771888733),\n",
       " ('이어폰', 0.6710714101791382),\n",
       " ('핀', 0.6676031351089478),\n",
       " ('누르다', 0.6608299612998962),\n",
       " ('스크레치', 0.649871826171875),\n",
       " ('경우', 0.6466999650001526),\n",
       " ('결국', 0.6464872360229492)]"
      ]
     },
     "execution_count": 50,
     "metadata": {},
     "output_type": "execute_result"
    }
   ],
   "source": [
    "w2v.most_similar(positive=['배터리'])"
   ]
  },
  {
   "cell_type": "code",
   "execution_count": 48,
   "metadata": {
    "id": "jiHn0tXr9ARk",
    "outputId": "dbfd8016-85fa-48fa-aea9-e0f5172fd0d0"
   },
   "outputs": [
    {
     "data": {
      "text/plain": [
       "[('맵다', 0.6681540012359619),\n",
       " ('양념', 0.64952552318573),\n",
       " ('맛', 0.6467909812927246),\n",
       " ('야채', 0.6226661801338196),\n",
       " ('맛있다', 0.6174620389938354),\n",
       " ('호박', 0.6093883514404297),\n",
       " ('비리다', 0.6017285585403442),\n",
       " ('입맛', 0.594268798828125),\n",
       " ('신선하다', 0.5822972059249878),\n",
       " ('먹다', 0.5815186500549316)]"
      ]
     },
     "execution_count": 48,
     "metadata": {},
     "output_type": "execute_result"
    }
   ],
   "source": [
    "w2v.most_similar(positive=['고기'])"
   ]
  },
  {
   "cell_type": "code",
   "execution_count": 51,
   "metadata": {
    "id": "IaMF2MfA9ARo"
   },
   "outputs": [
    {
     "data": {
      "text/plain": [
       "[('생일', 0.6433972716331482),\n",
       " ('사주다', 0.6369302272796631),\n",
       " ('친구', 0.6067937612533569),\n",
       " ('부모님', 0.5845746994018555),\n",
       " ('좋아하다', 0.5761808156967163)]"
      ]
     },
     "execution_count": 51,
     "metadata": {},
     "output_type": "execute_result"
    }
   ],
   "source": [
    "w2v.most_similar(positive=['선물'],topn = 5)"
   ]
  }
 ],
 "metadata": {
  "colab": {
   "name": "Untitled-Copy1.ipynb",
   "provenance": []
  },
  "kernelspec": {
   "display_name": "Python 3 (ipykernel)",
   "language": "python",
   "name": "python3"
  },
  "language_info": {
   "codemirror_mode": {
    "name": "ipython",
    "version": 3
   },
   "file_extension": ".py",
   "mimetype": "text/x-python",
   "name": "python",
   "nbconvert_exporter": "python",
   "pygments_lexer": "ipython3",
   "version": "3.8.11"
  }
 },
 "nbformat": 4,
 "nbformat_minor": 1
}
