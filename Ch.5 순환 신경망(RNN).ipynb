{
 "cells": [
  {
   "cell_type": "markdown",
   "metadata": {},
   "source": [
    "**피드포워드(feed forward) 신경망**  \n",
    "- 흐름이 단방향 : 한 방향으로만 신호가 전달  \n",
    "- 입력 신호 → 중간층 → 그 다음 층 → 그 다음 층 → ···  \n",
    "- 구성 단순 : 이해하기 쉽고 응용 가능  \n",
    "- 단점 : 시계열 데이터의 성질(패턴)을 충분히 학습할 수 없음!  \n",
    "⇒ **순환 신경망(RNN)** 등장"
   ]
  },
  {
   "cell_type": "markdown",
   "metadata": {},
   "source": [
    "## 1. 확률과 언어 모델\n",
    "### 1) word2vec을 확률 관점에서 바라보다\n",
    "**A.** 좌우 대칭 맥락, 윈도우 크기 = 1일 때 CBOW 모델  \n",
    "<br>\n",
    "$$P(w_t|w_{t-1},w_{t+1})$$\n",
    "<br>\n",
    "손실 함수 =  \n",
    "<br>\n",
    "$$L = -logP(w_t|w_{t-1},w_{t+1})$$\n",
    "<br>\n",
    "**B.** 맥락을 왼쪽 윈도우로 한정할 때, 윈도우 크기 = '왼쪽 2, 오른쪽 0', CBOW 모델  \n",
    "<br>\n",
    "$$P(w_t|w_{t-2},w_{t-1})$$\n",
    "<br>\n",
    "손실 함수 =  \n",
    "<br>\n",
    "$$L = -logP(w_t|w_{t-2},w_{t-1})$$"
   ]
  },
  {
   "cell_type": "markdown",
   "metadata": {},
   "source": [
    "CBOW 모델의 학습 : 손실함수를 최소화하는 가중치 매개변수를 찾음  \n",
    "→ 단어의 의미가 인코딩된 '단어의 분산 표현'을 얻을 수 있음  \n",
    "→ 맥락으로부터 타깃을 더욱 정확하게 추측 가능 ⇒ **\"언어 모델\"**에 사용"
   ]
  },
  {
   "cell_type": "markdown",
   "metadata": {},
   "source": [
    "### 2) 언어 모델(Language Model)\n",
    "단어 나열에 확률을 부여  \n",
    "특정 단어의 시퀀스에 대해 단어 순서의 자연스러움을 확률적으로 평가  \n",
    "응용 분야 : 기계 번역, 음성 인식  \n",
    "새로운 문장을 생성하는 용도로 이용 : 확률분포에 따라 다음 적합한 단어를 샘플링 가능(7장)  "
   ]
  },
  {
   "attachments": {
    "image.png": {
     "image/png": "[encoded data removed]"
    }
   },
   "cell_type": "markdown",
   "metadata": {},
   "source": [
    "단어가 순서로 출현할 확률(**여러 사건이 동시에 일어나는 동시확률**) :  \n",
    "- **확률의 곱셈정리** 이용\n",
    "![image.png](attachment:image.png)  \n",
    "- 언어 모델의 사후 확률 : t 번째 단어를 타깃으로 할 때 t번째보다 왼쪽에 있는 단어 모두를 맥락으로 고려"
   ]
  },
  {
   "cell_type": "markdown",
   "metadata": {},
   "source": [
    "### 3) CBOW 모델을 언어 모델로?"
   ]
  },
  {
   "cell_type": "code",
   "execution_count": null,
   "metadata": {},
   "outputs": [],
   "source": []
  }
 ],
 "metadata": {
  "kernelspec": {
   "display_name": "Python 3",
   "language": "python",
   "name": "python3"
  },
  "language_info": {
   "codemirror_mode": {
    "name": "ipython",
    "version": 3
   },
   "file_extension": ".py",
   "mimetype": "text/x-python",
   "name": "python",
   "nbconvert_exporter": "python",
   "pygments_lexer": "ipython3",
   "version": "3.8.3"
  }
 },
 "nbformat": 4,
 "nbformat_minor": 4
}
